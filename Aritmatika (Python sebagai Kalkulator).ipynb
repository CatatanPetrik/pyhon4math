{
 "cells": [
  {
   "cell_type": "markdown",
   "id": "876f3441",
   "metadata": {},
   "source": [
    "### Operasi Aritmatika"
   ]
  },
  {
   "cell_type": "markdown",
   "id": "394eb129",
   "metadata": {},
   "source": [
    "|Operasi|Simbol|Contoh|Matematika|Hasil|Keterangan|\n",
    "|:-|:-:|:-:|:-:|:-:|:-|\n",
    "|Penjumlahan | +  | 5 + 2  | 5 + 2 | 7 ||\n",
    "|Pengurangan | -  | 5 - 2  | 5 - 2 | 3 ||\n",
    "|Perkalian   | *  | 5 * 2  | 5 $\\times$ 2 |10||\n",
    "|Pembagian   | /  | 5 / 2  | 5 $\\div$ 2 |2.5||\n",
    "|Pembagian Floor       | // | 5 // 2 | $\\lfloor$ 5 $\\div$ 2 $\\rfloor$| 2 |Bilangan bulat terbesar yang kurang dari a $\\div$ b |   \n",
    "|Modulo      | %  | 5 % 2  | 5 mod 2 | 1 |Sisa Pembagian dari a $\\div$ b |\n",
    "|Perpangkatan| ** | 5 ** 2 | $5^2$ |25||"
   ]
  },
  {
   "cell_type": "code",
   "execution_count": null,
   "id": "d1594a21",
   "metadata": {},
   "outputs": [],
   "source": [
    "4 + 3"
   ]
  },
  {
   "cell_type": "code",
   "execution_count": null,
   "id": "4f66e50d",
   "metadata": {},
   "outputs": [],
   "source": [
    "4 - 3"
   ]
  },
  {
   "cell_type": "code",
   "execution_count": null,
   "id": "019d2885",
   "metadata": {},
   "outputs": [],
   "source": [
    "4 * 3"
   ]
  },
  {
   "cell_type": "code",
   "execution_count": null,
   "id": "dc75bd3e",
   "metadata": {},
   "outputs": [],
   "source": [
    "4 / 3"
   ]
  },
  {
   "cell_type": "code",
   "execution_count": null,
   "id": "ac795304",
   "metadata": {},
   "outputs": [],
   "source": [
    "4 // 3"
   ]
  },
  {
   "cell_type": "code",
   "execution_count": null,
   "id": "3ee9384c",
   "metadata": {},
   "outputs": [],
   "source": [
    "4 % 3"
   ]
  },
  {
   "cell_type": "code",
   "execution_count": null,
   "id": "1883b875",
   "metadata": {},
   "outputs": [],
   "source": [
    "4 ** 3"
   ]
  },
  {
   "cell_type": "code",
   "execution_count": null,
   "id": "b41dd579",
   "metadata": {},
   "outputs": [],
   "source": [
    "4 * 4 * 4"
   ]
  },
  {
   "cell_type": "markdown",
   "id": "ab6e57ad",
   "metadata": {},
   "source": [
    "### Urutan Operasi Aritmatika"
   ]
  },
  {
   "cell_type": "markdown",
   "id": "12832d61",
   "metadata": {},
   "source": [
    "1. **Tanda kurung**. \n",
    "    Jika terdapat beberapa tanda kurung maka dihitung dari tanda kurung terdalam ke tanda kurung terluar dan dari kiri ke kanan.\n",
    "2. **Perpangkatan**.\n",
    "    Jika terdapat beberapa pangkat maka akan dihitung dari kanan ke kiri.\n",
    "3. **Perkalian, pembagian, floor dan modulo**.\n",
    "    Jika terdapat beberapa perkalian, pembagian, floor dan modulo maka akan dihitung dari kiri ke kanan.\n",
    "4. **Penjumlahan dan pengurangan**.\n",
    "    Jika terdapat beberapa penjumlahan dan pengurangan maka akan dihitung dari kiri ke kanan."
   ]
  },
  {
   "cell_type": "code",
   "execution_count": null,
   "id": "21849e4c",
   "metadata": {},
   "outputs": [],
   "source": [
    "4 + (3 * (2 - 1))"
   ]
  },
  {
   "cell_type": "code",
   "execution_count": null,
   "id": "4be78770",
   "metadata": {},
   "outputs": [],
   "source": [
    "(4 + 3) * (2 - 1)"
   ]
  },
  {
   "cell_type": "code",
   "execution_count": null,
   "id": "42d72f74",
   "metadata": {},
   "outputs": [],
   "source": [
    "4 ** 3 ** 2"
   ]
  },
  {
   "cell_type": "code",
   "execution_count": null,
   "id": "c9d60ee6",
   "metadata": {},
   "outputs": [],
   "source": [
    "4 ** (3 ** 2)"
   ]
  },
  {
   "cell_type": "code",
   "execution_count": null,
   "id": "e7ab6f36",
   "metadata": {},
   "outputs": [],
   "source": [
    "4 * 3 / 2"
   ]
  },
  {
   "cell_type": "code",
   "execution_count": null,
   "id": "3d3da711",
   "metadata": {},
   "outputs": [],
   "source": [
    "(4 * 3) / 2"
   ]
  },
  {
   "cell_type": "code",
   "execution_count": null,
   "id": "3581ab0d",
   "metadata": {},
   "outputs": [],
   "source": [
    "4 + 3 - 2"
   ]
  },
  {
   "cell_type": "code",
   "execution_count": null,
   "id": "cca7b12e",
   "metadata": {},
   "outputs": [],
   "source": [
    "(4 + 3) - 2"
   ]
  },
  {
   "cell_type": "code",
   "execution_count": null,
   "id": "1a742926",
   "metadata": {},
   "outputs": [],
   "source": [
    "5 ** 4 * 3 + 2 / (1 - 0)"
   ]
  },
  {
   "cell_type": "code",
   "execution_count": null,
   "id": "2dd17619",
   "metadata": {},
   "outputs": [],
   "source": [
    "((5 ** 4) * 3) + (2 / (1 - 0))"
   ]
  }
 ],
 "metadata": {
  "kernelspec": {
   "display_name": "Python 3 (ipykernel)",
   "language": "python",
   "name": "python3"
  },
  "language_info": {
   "codemirror_mode": {
    "name": "ipython",
    "version": 3
   },
   "file_extension": ".py",
   "mimetype": "text/x-python",
   "name": "python",
   "nbconvert_exporter": "python",
   "pygments_lexer": "ipython3",
   "version": "3.9.7"
  }
 },
 "nbformat": 4,
 "nbformat_minor": 5
}
